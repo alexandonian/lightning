{
 "cells": [
  {
   "cell_type": "markdown",
   "metadata": {
    "collapsed": false
   },
   "source": [
    "<div  style=\"padding: 0px; padding-left: 0px;\">\n",
    "<img src=\"lightning_logo.png\" width=\"320px\"  style=\"display: inline-block; margin-left: 0px;\">\n",
    "</div>\n",
    "\n",
    "<p class='header-1'>Welcome to <span style='font-weight:800'>Lightning</span></p>\n",
    "\n",
    "<p class='info-text'>Lightning is an open-source library for integrating and analyzing spatial data obtained from a vareity of imaging modalities. Lightning is capable of working with ndarrays on small, medium, and very large data sets. Like its sibling, Thunder, it exposes array operations through either local or distributed implementations with a common interface, and makes it easy to switch between them. Its distributed implementation currently targets Spark, a powerful cluster computing framework. \n",
    "\n",
    "<p class='info-text'>For more information on Lightning, visit the <a href='http://github.com/alexandonian/lightning'>project</a> page. \n",
    "</p>\n",
    "\n",
    "<p class='header-2'>Tutorials</p>\n",
    "These notebooks are interactive tutorials that show how Lightning works:\n",
    "\n",
    "<a class='call-link lightning' href=>Basic usage (on its way)</a>\n",
    "\n",
    "\n",
    "<br>"
   ]
  },
  {
   "cell_type": "markdown",
   "metadata": {},
   "source": [
    "<p class='header-2'>Introduction</span></p>\n",
    "## Rethinking the Image in Lightning:\n"
   ]
  },
  {
   "cell_type": "code",
   "execution_count": null,
   "metadata": {
    "collapsed": true
   },
   "outputs": [],
   "source": []
  }
 ],
 "metadata": {
  "kernelspec": {
   "display_name": "Python 2",
   "language": "python",
   "name": "python2"
  },
  "language_info": {
   "codemirror_mode": {
    "name": "ipython",
    "version": 2
   },
   "file_extension": ".py",
   "mimetype": "text/x-python",
   "name": "python",
   "nbconvert_exporter": "python",
   "pygments_lexer": "ipython2",
   "version": "2.7.11"
  }
 },
 "nbformat": 4,
 "nbformat_minor": 0
}
