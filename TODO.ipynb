{
 "cells": [
  {
   "cell_type": "markdown",
   "metadata": {},
   "source": [
    "# TODO:"
   ]
  },
  {
   "cell_type": "markdown",
   "metadata": {},
   "source": [
    "## General Objectives:\n"
   ]
  },
  {
   "cell_type": "markdown",
   "metadata": {},
   "source": [
    "<ul>\n",
    "<li> PySpark + Spark SQL + Hadoop DB running on cluster (and Amazon EC2) </li>\n",
    "<li> Patchify and filter on PySpark </li>\n",
    "<li> Image fusion </li>\n",
    "<li> Image registration </li>\n",
    "<li> EM patched-base CNN </li>\n",
    "<li> Spatial Statistics </li>\n",
    "</ul>"
   ]
  },
  {
   "cell_type": "markdown",
   "metadata": {},
   "source": [
    "## Specific Objectives:\n",
    "\n",
    "<li>Move image_info nested dictionaries to ImageInfo transaction object</li>\n",
    "<li>Clean ImageController code</li>\n",
    "<li>Write distributed \"patchify\" - consider using Bolt ChunkedArrays</li>\n",
    "<li>Prepare to convert Provider into a database query helper</li>\n",
    "<li>Database considerations: we'll need a DB helper and DB contract, and an ImageFetcher and ImageParser </li>"
   ]
  },
  {
   "cell_type": "markdown",
   "metadata": {},
   "source": [
    "## Questions (particularly for the fall):\n",
    "In terms of distributed computing, PySpark seems like a very good way to go:\n",
    "<li>I have found a Medical Image Registration Toolbox which works extrememly well with some of the data I'll be working with. However, this is a MATLAB toolbox. Will this play nicely with the PySpark framework? Will it have to be rewritten? I was planning to work on this on the fall to handle the Registration part of the pipeline </li>\n",
    "<li>Matlab just introduced its own distributed computing/cloud computing options...should I try those instead?</li>\n",
    "<li>What about doing registration on the GPU instead of a cluster?</li>"
   ]
  },
  {
   "cell_type": "code",
   "execution_count": null,
   "metadata": {
    "collapsed": true
   },
   "outputs": [],
   "source": []
  }
 ],
 "metadata": {
  "kernelspec": {
   "display_name": "Python 2",
   "language": "python",
   "name": "python2"
  },
  "language_info": {
   "codemirror_mode": {
    "name": "ipython",
    "version": 2
   },
   "file_extension": ".py",
   "mimetype": "text/x-python",
   "name": "python",
   "nbconvert_exporter": "python",
   "pygments_lexer": "ipython2",
   "version": "2.7.11"
  }
 },
 "nbformat": 4,
 "nbformat_minor": 0
}
