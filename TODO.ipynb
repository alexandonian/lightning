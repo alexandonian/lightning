{
 "cells": [
  {
   "cell_type": "markdown",
   "metadata": {},
   "source": [
    "# TODO:"
   ]
  },
  {
   "cell_type": "markdown",
   "metadata": {},
   "source": [
    "## General Objectives:\n"
   ]
  },
  {
   "cell_type": "markdown",
   "metadata": {},
   "source": [
    "<ul>\n",
    "<li> PySpark and Hadoop DB running on cluster (and Amazon EC2) </li>\n",
    "<li> Patchify and filter on PySpark </li>\n",
    "<li> Image fusion </li>\n",
    "<li> Image registration </li>\n",
    "<li> EM patched-base CNN </li>\n",
    "<li> Spatial Statistics </li>\n",
    "</ul>"
   ]
  },
  {
   "cell_type": "markdown",
   "metadata": {},
   "source": [
    "## Specific Objectives:"
   ]
  },
  {
   "cell_type": "markdown",
   "metadata": {},
   "source": [
    "# Resources:"
   ]
  },
  {
   "cell_type": "markdown",
   "metadata": {},
   "source": [
    "<li>\n",
    "<a href=http://wbir2016.doc.ic.ac.uk/> WBIR 2016 -7th International Workshop on Biomedical Image Registration – July 1, Las Vegas, Nevada, USA </a>\n",
    "</li>\n",
    "\n",
    "<li>\n",
    "<a href=https://www.continuum.io/blog/developer-blog/using-anaconda-pyspark-distributed-language-processing-hadoop-cluster> Using Anaconda with PySpark for Distributed Language Processing on a Hadoop Cluster</a>\n",
    "</li>\n",
    "\n",
    "<li>\n",
    "<a href=http://www.infoworld.com/article/2683729/hadoop/10-ways-to-query-hadoop-with-sql.html>10 Ways to query hadoop with sql- note Spark SQL</a>\n",
    "</li>\n",
    "\n",
    "<li>\n",
    "<a href=https://github.com/rbgirshick/py-faster-rcnn> Faster R-CNN python implementation</a>\n",
    "</li>\n",
    "\n",
    "<li>\n",
    "<a href=http://deepdish.io/2015/04/28/creating-lmdb-in-python/>Creating an LMDB database in Python</a>\n",
    "</li>\n",
    "\n",
    "<li>\n",
    "<a href=http://blog.booleanbiotech.com/ipython_notebook_tips.html> IPython Notebook Tips</a>\n",
    "</li>\n",
    "\n",
    "<li>\n",
    "<a href=https://github.com/ipython/ipython/wiki/A-gallery-of-interesting-IPython-Notebooks#introductory-tutorials>A gallery of interesting IPython Notebooks</a>\n",
    "</li>\n",
    "\n",
    "<li>\n",
    "<a href=http://jrjohansson.github.io/numericalpython.html/>Numerical Python</a>\n",
    "</li>\n",
    "\n",
    "<li>\n",
    "<a href=http://news.harvard.edu/gazette/story/2015/10/closer-view-of-the-brain//>Closer View of the Brain</a>\n",
    "</li>\n",
    "\n",
    "<li>\n",
    "<a href=http://ozkatz.github.io/better-python-apis.html/>Better Python APIs</a>\n",
    "</li>\n",
    "\n",
    "<li>\n",
    "<a href=http://www.lifehack.org/articles/technology/40-key-computer-science-concepts-explained-laymans-terms.html/>40 Computer Science Terms Explained</a>\n",
    "</li>\n",
    "\n",
    "<li>\n",
    "<a href=https://github.com/josephmisiti/awesome-machine-learning#julia-data-analysis/>Libraries for Julia data analysis</a>\n",
    "</li>\n",
    "\n",
    "<li>\n",
    "<a href=http://deeplearning4j.org>DEEPLEARNING4J: Open-source, distributed, deep-learning library for the JVM</a>\n",
    "</li>\n",
    "\n",
    "<li>\n",
    "<a href=http://ujjwalkarn.github.io/Machine-Learning-Tutorials/>Machine Learning Tutorials</a>\n",
    "</li>"
   ]
  },
  {
   "cell_type": "code",
   "execution_count": null,
   "metadata": {
    "collapsed": true
   },
   "outputs": [],
   "source": []
  },
  {
   "cell_type": "code",
   "execution_count": null,
   "metadata": {
    "collapsed": true
   },
   "outputs": [],
   "source": []
  }
 ],
 "metadata": {
  "kernelspec": {
   "display_name": "Python 2",
   "language": "python",
   "name": "python2"
  },
  "language_info": {
   "codemirror_mode": {
    "name": "ipython",
    "version": 2
   },
   "file_extension": ".py",
   "mimetype": "text/x-python",
   "name": "python",
   "nbconvert_exporter": "python",
   "pygments_lexer": "ipython2",
   "version": "2.7.11"
  }
 },
 "nbformat": 4,
 "nbformat_minor": 0
}
