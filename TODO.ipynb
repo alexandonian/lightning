{
 "cells": [
  {
   "cell_type": "markdown",
   "metadata": {},
   "source": [
    "# TODO:"
   ]
  },
  {
   "cell_type": "markdown",
   "metadata": {},
   "source": [
    "## General Objectives:\n"
   ]
  },
  {
   "cell_type": "markdown",
   "metadata": {},
   "source": [
    "<ul>\n",
    "<li> PySpark + Spark SQL + Hadoop DB running on cluster (and Amazon EC2) </li>\n",
    "<li> Patchify and filter on PySpark </li>\n",
    "<li> Image fusion </li>\n",
    "<li> Image registration </li>\n",
    "<li> EM patched-base CNN </li>\n",
    "<li> Spatial Statistics </li>\n",
    "<li> Lightning Live Notebook </li>\n",
    "</ul>"
   ]
  },
  {
   "cell_type": "markdown",
   "metadata": {},
   "source": [
    "## Specific Objectives:\n",
    "\n",
    "<li>Move image_info nested dictionaries to ImageInfo transaction object</li>\n",
    "<li>Clean ImageController code</li>\n",
    "<li>Write distributed \"patchify\" - consider using Bolt ChunkedArrays</li>\n",
    "<li>Prepare to convert Provider into a database query helper</li>\n",
    "<li>Database considerations: we'll need a DB helper and DB contract, and an ImageFetcher and ImageParser </li>"
   ]
  },
  {
   "cell_type": "markdown",
   "metadata": {},
   "source": [
    "# Resources:"
   ]
  },
  {
   "cell_type": "markdown",
   "metadata": {},
   "source": [
    "<ul> Image Registration:\n",
    "\n",
    "    <li>\n",
    "        <a href=http://www.sciencedirect.com/science/article/pii/S111086651500047X>Current trends in medical image registration and fusion</a>\n",
    "    </li>\n",
    "\n",
    "    <li>\n",
    "        <a href=http://www.sciencedirect.com/science/article/pii/S0010482516300774>Medical image registration using sparse coding of image patches</a>\n",
    "    </li>\n",
    "\n",
    "    <li>\n",
    "        <a href=http://link.springer.com/chapter/10.1007/978-81-322-2671-0_40>3D Multimodal Medical Image Fusion and Evaluation of Diseases</a>\n",
    "    </li>\n",
    "\n",
    "    <li>\n",
    "        <a href=http://wbir2016.doc.ic.ac.uk> WBIR 2016 -7th International Workshop on Biomedical Image Registration – July 1, Las Vegas, Nevada, USA </a>\n",
    "    </li>\n",
    "\n",
    "</ul>\n",
    "\n",
    "<ul> Big Data:\n",
    "\n",
    "    <li>\n",
    "        <a href=https://www.continuum.io/blog/developer-blog/using-anaconda-pyspark-distributed-language-processing-hadoop-cluster> Using Anaconda with PySpark for Distributed Language Processing on a Hadoop Cluster</a>\n",
    "    </li>\n",
    "\n",
    "    <li>\n",
    "        <a href=http://www.infoworld.com/article/2683729/hadoop/10-ways-to-query-hadoop-with-sql.html>10 Ways to query hadoop with sql- note Spark SQL</a>\n",
    "    </li>\n",
    "\n",
    "</ul>\n",
    "\n",
    "<ul> Libraries:\n",
    "\n",
    "    <li>\n",
    "        <a href=https://github.com/josephmisiti/awesome-machine-learning#julia-data-analysis/ >Libraries for Julia data analysis</a>\n",
    "    </li>\n",
    "\n",
    "    <li>\n",
    "        <a href=http://deeplearning4j.org>DEEPLEARNING4J: Open-source, distributed, deep-learning library for the JVM</a>\n",
    "    </li>\n",
    "\n",
    "</ul>\n",
    "\n",
    "<ul> General Tutorials:\n",
    "\n",
    "    <li>\n",
    "        <a href=http://ujjwalkarn.github.io/Machine-Learning-Tutorials/>Machine Learning Tutorials</a>\n",
    "    </li>\n",
    "\n",
    "    <li>\n",
    "        <a href=http://deepdish.io/2015/04/28/creating-lmdb-in-python/>Creating an LMDB database in Python</a>\n",
    "    </li>\n",
    "\n",
    "    <li>\n",
    "        <a href=https://github.com/ipython/ipython/wiki/A-gallery-of-interesting-IPython-Notebooks#introductory-tutorials>A gallery of interesting IPython Notebooks</a>\n",
    "    </li>\n",
    "\n",
    "    <li>\n",
    "        <a href=http://jrjohansson.github.io/numericalpython.html/>Numerical Python</a>\n",
    "    </li>\n",
    "\n",
    "</ul>\n",
    "\n",
    "<ul> Editor/IDE/Notebook Tips and Tricks:\n",
    "\n",
    "    <li>\n",
    "        <a href=https://community.hortonworks.com/content/idea/43020/setting-up-your-spark-spark-sql-development-enviro.html>Setting up your spark/spark-sql development environment in PyCharm</a>\n",
    "    </li>\n",
    "\n",
    "    <li>\n",
    "        <a href=http://stackoverflow.com/questions/34685905/how-to-link-pycharm-with-pyspark>How to link pycharm with pyspark</a>\n",
    "    </li>\n",
    "\n",
    "    <li>\n",
    "        <a href=http://blog.booleanbiotech.com/ipython_notebook_tips.html> IPython Notebook Tips</a>\n",
    "    </li>\n",
    "\n",
    "    <li>\n",
    "        <a href=http://ozkatz.github.io/better-python-apis.html/>Better Python APIs</a>\n",
    "    </li>\n",
    "\n",
    "</ul>\n",
    "\n",
    "<ul> General:\n",
    "\n",
    "    <li>\n",
    "        <a href=https://github.com/rbgirshick/py-faster-rcnn> Faster R-CNN python implementation</a>\n",
    "    </li>\n",
    "\n",
    "    <li>\n",
    "        <a href=http://news.harvard.edu/gazette/story/2015/10/closer-view-of-the-brain//>Closer View of the Brain</a>\n",
    "    </li>\n",
    "\n",
    "    <li>\n",
    "        <a href=http://www.lifehack.org/articles/technology/40-key-computer-science-concepts-explained-laymans-terms.html>40 Computer Science Terms Explained</a>\n",
    "    </li>\n",
    "\n",
    "</ul>\n",
    "\n",
    "\n",
    "\n"
   ]
  }
 ],
 "metadata": {
  "kernelspec": {
   "display_name": "Python 2",
   "language": "python",
   "name": "python2"
  },
  "language_info": {
   "codemirror_mode": {
    "name": "ipython",
    "version": 2
   },
   "file_extension": ".py",
   "mimetype": "text/x-python",
   "name": "python",
   "nbconvert_exporter": "python",
   "pygments_lexer": "ipython2",
   "version": "2.7.11"
  }
 },
 "nbformat": 4,
 "nbformat_minor": 0
}
